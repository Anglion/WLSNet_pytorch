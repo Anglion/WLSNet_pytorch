{
 "cells": [
  {
   "cell_type": "code",
   "execution_count": 98,
   "metadata": {},
   "outputs": [
    {
     "name": "stdout",
     "output_type": "stream",
     "text": [
      "The autoreload extension is already loaded. To reload it, use:\n",
      "  %reload_ext autoreload\n"
     ]
    }
   ],
   "source": [
    "from model import Encoder, WLSNet\n",
    "from torch import nn\n",
    "%load_ext autoreload\n",
    "%autoreload 2"
   ]
  },
  {
   "cell_type": "code",
   "execution_count": 4,
   "metadata": {
    "collapsed": true
   },
   "outputs": [],
   "source": [
    "import torch"
   ]
  },
  {
   "cell_type": "code",
   "execution_count": 36,
   "metadata": {
    "collapsed": true
   },
   "outputs": [],
   "source": [
    "test = torch.Tensor(64, 12, 512)\n",
    "test2 = torch.Tensor(64, 8, 13)"
   ]
  },
  {
   "cell_type": "code",
   "execution_count": 99,
   "metadata": {},
   "outputs": [],
   "source": [
    "net = WLSNet()"
   ]
  },
  {
   "cell_type": "code",
   "execution_count": 100,
   "metadata": {},
   "outputs": [
    {
     "name": "stderr",
     "output_type": "stream",
     "text": [
      "/anaconda3/envs/pytorch/lib/python3.6/site-packages/torch/nn/modules/container.py:91: UserWarning: Implicit dimension choice for softmax has been deprecated. Change the call to include dim=X as an argument.\n",
      "  input = module(input)\n"
     ]
    },
    {
     "data": {
      "text/plain": [
       "tensor(1.00000e-02 *\n",
       "       [[[ 2.0969,  2.2376,  2.1515,  ...,  2.0819,  2.1684,  2.1279],\n",
       "         [ 2.0987,  2.2349,  2.1457,  ...,  2.0833,  2.1700,  2.1317],\n",
       "         [ 2.1009,  2.2341,  2.1426,  ...,  2.0850,  2.1708,  2.1337],\n",
       "         [ 2.1028,  2.2340,  2.1411,  ...,  2.0866,  2.1712,  2.1346]],\n",
       "\n",
       "        [[ 2.0986,  2.2513,  2.1638,  ...,  2.1163,  2.1891,  2.1648],\n",
       "         [ 2.1011,  2.2528,  2.1579,  ...,  2.1185,  2.1915,  2.1701],\n",
       "         [ 2.1036,  2.2540,  2.1548,  ...,  2.1200,  2.1932,  2.1729],\n",
       "         [ 2.1055,  2.2547,  2.1533,  ...,  2.1208,  2.1944,  2.1743]],\n",
       "\n",
       "        [[ 2.1001,  2.2239,  2.1526,  ...,  2.1021,  2.1963,  2.1312],\n",
       "         [ 2.1038,  2.2215,  2.1470,  ...,  2.1027,  2.1984,  2.1360],\n",
       "         [ 2.1065,  2.2206,  2.1440,  ...,  2.1038,  2.1990,  2.1389],\n",
       "         [ 2.1083,  2.2204,  2.1422,  ...,  2.1049,  2.1991,  2.1404]],\n",
       "\n",
       "        ...,\n",
       "\n",
       "        [[ 2.1027,  2.1935,  2.1513,  ...,  2.0916,  2.2110,  2.1896],\n",
       "         [ 2.1051,  2.1915,  2.1464,  ...,  2.0911,  2.2145,  2.1958],\n",
       "         [ 2.1077,  2.1910,  2.1434,  ...,  2.0918,  2.2164,  2.1993],\n",
       "         [ 2.1099,  2.1911,  2.1416,  ...,  2.0928,  2.2176,  2.2011]],\n",
       "\n",
       "        [[ 2.1084,  2.2655,  2.1557,  ...,  2.1057,  2.1241,  2.1420],\n",
       "         [ 2.1115,  2.2657,  2.1486,  ...,  2.1068,  2.1266,  2.1452],\n",
       "         [ 2.1140,  2.2663,  2.1446,  ...,  2.1077,  2.1282,  2.1470],\n",
       "         [ 2.1158,  2.2669,  2.1423,  ...,  2.1084,  2.1293,  2.1480]],\n",
       "\n",
       "        [[ 2.0590,  2.2020,  2.1585,  ...,  2.1180,  2.1890,  2.1389],\n",
       "         [ 2.0630,  2.2009,  2.1520,  ...,  2.1190,  2.1914,  2.1429],\n",
       "         [ 2.0657,  2.2009,  2.1486,  ...,  2.1204,  2.1926,  2.1455],\n",
       "         [ 2.0674,  2.2012,  2.1468,  ...,  2.1217,  2.1933,  2.1470]]])"
      ]
     },
     "execution_count": 100,
     "metadata": {},
     "output_type": "execute_result"
    }
   ],
   "source": [
    "net(test2, test).size()"
   ]
  },
  {
   "cell_type": "code",
   "execution_count": null,
   "metadata": {
    "collapsed": true
   },
   "outputs": [],
   "source": []
  }
 ],
 "metadata": {
  "kernelspec": {
   "display_name": "pytorch",
   "language": "python",
   "name": "pytorch"
  },
  "language_info": {
   "codemirror_mode": {
    "name": "ipython",
    "version": 3
   },
   "file_extension": ".py",
   "mimetype": "text/x-python",
   "name": "python",
   "nbconvert_exporter": "python",
   "pygments_lexer": "ipython3",
   "version": "3.6.4"
  }
 },
 "nbformat": 4,
 "nbformat_minor": 2
}
